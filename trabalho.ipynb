{
 "metadata": {
  "language_info": {
   "codemirror_mode": {
    "name": "ipython",
    "version": 3
   },
   "file_extension": ".py",
   "mimetype": "text/x-python",
   "name": "python",
   "nbconvert_exporter": "python",
   "pygments_lexer": "ipython3",
   "version": 3
  },
  "orig_nbformat": 2
 },
 "nbformat": 4,
 "nbformat_minor": 2,
 "cells": [
  {
   "source": [
    "# Trabalho 1\n",
    "\n",
    "## DCA0133 - APRENDIZAGEM DE MÁQUINA E MINERAÇÃO DE DADOS\n",
    "\n",
    "### 20190152879 - Angelo Marcelino Cordeiro\n",
    "\n",
    "### 20190153007 - Richardson Santiago Teles de Menezes\n",
    "\n"
   ],
   "cell_type": "markdown",
   "metadata": {}
  },
  {
   "cell_type": "code",
   "execution_count": null,
   "metadata": {},
   "outputs": [],
   "source": []
  }
 ]
}