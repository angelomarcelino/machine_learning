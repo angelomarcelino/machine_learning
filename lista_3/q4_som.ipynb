{
 "cells": [
  {
   "cell_type": "markdown",
   "metadata": {
    "colab_type": "text",
    "id": "view-in-github"
   },
   "source": [
    "<a href=\"https://colab.research.google.com/github/angelomarcelino/machine_learning/blob/main/lista_3/q4_som.ipynb\" target=\"_parent\"><img src=\"https://colab.research.google.com/assets/colab-badge.svg\" alt=\"Open In Colab\"/></a>"
   ]
  },
  {
   "cell_type": "code",
   "execution_count": 25,
   "metadata": {
    "id": "Z8jmqC5RH4c6"
   },
   "outputs": [],
   "source": [
    "import pandas as pd\n",
    "import numpy as np\n",
    "\n",
    "data = pd.read_csv('https://raw.githubusercontent.com/angelomarcelino/machine_learning/main/lista_3/q3_data.csv')\n",
    "atributos = ['expectativa_de_vida', 'educacao', 'pib', 'estabilidade_politica']\n",
    "paises = data['pais']"
   ]
  },
  {
   "cell_type": "code",
   "execution_count": 26,
   "metadata": {},
   "outputs": [
    {
     "data": {
      "text/html": [
       "<div>\n",
       "<style scoped>\n",
       "    .dataframe tbody tr th:only-of-type {\n",
       "        vertical-align: middle;\n",
       "    }\n",
       "\n",
       "    .dataframe tbody tr th {\n",
       "        vertical-align: top;\n",
       "    }\n",
       "\n",
       "    .dataframe thead th {\n",
       "        text-align: right;\n",
       "    }\n",
       "</style>\n",
       "<table border=\"1\" class=\"dataframe\">\n",
       "  <thead>\n",
       "    <tr style=\"text-align: right;\">\n",
       "      <th></th>\n",
       "      <th>pais</th>\n",
       "      <th>expectativa_de_vida</th>\n",
       "      <th>educacao</th>\n",
       "      <th>pib</th>\n",
       "      <th>estabilidade_politica</th>\n",
       "    </tr>\n",
       "  </thead>\n",
       "  <tbody>\n",
       "    <tr>\n",
       "      <th>0</th>\n",
       "      <td>Reino Unido</td>\n",
       "      <td>0.88</td>\n",
       "      <td>0.99</td>\n",
       "      <td>0.91</td>\n",
       "      <td>1.10</td>\n",
       "    </tr>\n",
       "    <tr>\n",
       "      <th>1</th>\n",
       "      <td>Austrália</td>\n",
       "      <td>0.90</td>\n",
       "      <td>0.99</td>\n",
       "      <td>0.93</td>\n",
       "      <td>1.26</td>\n",
       "    </tr>\n",
       "    <tr>\n",
       "      <th>2</th>\n",
       "      <td>Canadá</td>\n",
       "      <td>0.90</td>\n",
       "      <td>0.98</td>\n",
       "      <td>0.94</td>\n",
       "      <td>1.24</td>\n",
       "    </tr>\n",
       "    <tr>\n",
       "      <th>3</th>\n",
       "      <td>Estados Unidos</td>\n",
       "      <td>0.87</td>\n",
       "      <td>0.98</td>\n",
       "      <td>0.97</td>\n",
       "      <td>1.18</td>\n",
       "    </tr>\n",
       "    <tr>\n",
       "      <th>4</th>\n",
       "      <td>Japão</td>\n",
       "      <td>0.93</td>\n",
       "      <td>0.93</td>\n",
       "      <td>0.93</td>\n",
       "      <td>1.20</td>\n",
       "    </tr>\n",
       "  </tbody>\n",
       "</table>\n",
       "</div>"
      ],
      "text/plain": [
       "             pais  expectativa_de_vida  educacao   pib  estabilidade_politica\n",
       "0     Reino Unido                 0.88      0.99  0.91                   1.10\n",
       "1       Austrália                 0.90      0.99  0.93                   1.26\n",
       "2          Canadá                 0.90      0.98  0.94                   1.24\n",
       "3  Estados Unidos                 0.87      0.98  0.97                   1.18\n",
       "4           Japão                 0.93      0.93  0.93                   1.20"
      ]
     },
     "execution_count": 26,
     "metadata": {},
     "output_type": "execute_result"
    }
   ],
   "source": [
    "data.head()"
   ]
  },
  {
   "cell_type": "code",
   "execution_count": 28,
   "metadata": {
    "colab": {
     "base_uri": "https://localhost:8080/",
     "height": 198
    },
    "id": "orbEmzklLmVY",
    "outputId": "b10f74a8-bb75-430f-d3b0-c7143d1091bc"
   },
   "outputs": [
    {
     "data": {
      "text/plain": [
       "['expectativa_de_vida', 'educacao', 'pib', 'estabilidade_politica']"
      ]
     },
     "execution_count": 28,
     "metadata": {},
     "output_type": "execute_result"
    }
   ],
   "source": [
    "atributos"
   ]
  },
  {
   "cell_type": "code",
   "execution_count": 3,
   "metadata": {
    "colab": {
     "base_uri": "https://localhost:8080/"
    },
    "id": "M7x71e2XKlOO",
    "outputId": "fc5e70ee-d9bd-4971-ca8c-2a67bf90bb2e"
   },
   "outputs": [
    {
     "data": {
      "text/plain": [
       "['Rei',\n",
       " 'Aus',\n",
       " 'Can',\n",
       " 'Est',\n",
       " 'Jap',\n",
       " 'Fra',\n",
       " 'Cin',\n",
       " 'Arg',\n",
       " 'Uru',\n",
       " 'Cub',\n",
       " 'Col',\n",
       " 'Bra',\n",
       " 'Par',\n",
       " 'Egi',\n",
       " 'Nig',\n",
       " 'Sen',\n",
       " 'Ser',\n",
       " 'Ang',\n",
       " 'Eti',\n",
       " 'Moç',\n",
       " 'Chi']"
      ]
     },
     "execution_count": 3,
     "metadata": {},
     "output_type": "execute_result"
    }
   ],
   "source": [
    "paises = [i[:3] for i in paises]\n",
    "paises"
   ]
  },
  {
   "cell_type": "code",
   "execution_count": 4,
   "metadata": {
    "id": "l7VRRR2LVvtr"
   },
   "outputs": [],
   "source": [
    "import popsom as PopSom \n",
    "from sklearn import datasets"
   ]
  },
  {
   "cell_type": "code",
   "execution_count": 19,
   "metadata": {
    "colab": {
     "base_uri": "https://localhost:8080/",
     "height": 171
    },
    "id": "byP7-jFgVvof",
    "outputId": "c33679a8-f775-48b4-840e-b31f96c6e017"
   },
   "outputs": [],
   "source": [
    "som = PopSom.map(xdim=10,ydim=10,train=1000,norm=True)"
   ]
  },
  {
   "cell_type": "code",
   "execution_count": 20,
   "metadata": {
    "colab": {
     "base_uri": "https://localhost:8080/"
    },
    "id": "MWl0KGtMILZy",
    "outputId": "d499aaa5-07ef-49ed-d782-d85b006e95a3"
   },
   "outputs": [],
   "source": [
    "som.fit(atributos,paises)"
   ]
  },
  {
   "cell_type": "code",
   "execution_count": 21,
   "metadata": {
    "id": "w7NamZ2AIr2a"
   },
   "outputs": [],
   "source": [
    "import matplotlib\n",
    "matplotlib.use('TkAgg')\n",
    "som.starburst(comp=False)"
   ]
  },
  {
   "cell_type": "code",
   "execution_count": 12,
   "metadata": {
    "id": "_R17L4KXJE8e"
   },
   "outputs": [],
   "source": [
    "som.significance()"
   ]
  },
  {
   "cell_type": "code",
   "execution_count": null,
   "metadata": {
    "id": "r_oNVEBHSM5T"
   },
   "outputs": [],
   "source": []
  }
 ],
 "metadata": {
  "colab": {
   "authorship_tag": "ABX9TyPfkK8ucL0oUvn3FJvvBcC0",
   "include_colab_link": true,
   "name": "q4_som.ipynb",
   "provenance": []
  },
  "kernelspec": {
   "display_name": "Python [conda env:popsom] *",
   "language": "python",
   "name": "conda-env-popsom-py"
  },
  "language_info": {
   "codemirror_mode": {
    "name": "ipython",
    "version": 3
   },
   "file_extension": ".py",
   "mimetype": "text/x-python",
   "name": "python",
   "nbconvert_exporter": "python",
   "pygments_lexer": "ipython3",
   "version": "3.8.5"
  }
 },
 "nbformat": 4,
 "nbformat_minor": 1
}
