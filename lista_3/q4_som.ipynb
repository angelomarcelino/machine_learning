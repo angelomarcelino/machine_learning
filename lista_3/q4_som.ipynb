{
  "nbformat": 4,
  "nbformat_minor": 0,
  "metadata": {
    "colab": {
      "name": "q4_som.ipynb",
      "provenance": [],
      "authorship_tag": "ABX9TyPfkK8ucL0oUvn3FJvvBcC0",
      "include_colab_link": true
    },
    "kernelspec": {
      "name": "python3",
      "display_name": "Python 3"
    }
  },
  "cells": [
    {
      "cell_type": "markdown",
      "metadata": {
        "id": "view-in-github",
        "colab_type": "text"
      },
      "source": [
        "<a href=\"https://colab.research.google.com/github/angelomarcelino/machine_learning/blob/main/lista_3/q4_som.ipynb\" target=\"_parent\"><img src=\"https://colab.research.google.com/assets/colab-badge.svg\" alt=\"Open In Colab\"/></a>"
      ]
    },
    {
      "cell_type": "code",
      "metadata": {
        "colab": {
          "base_uri": "https://localhost:8080/"
        },
        "id": "7JgxM8IVHy_j",
        "outputId": "f0687539-9838-477b-ba63-3e8b6e30201b"
      },
      "source": [
        "!git clone https://github.com/njali2001/popsom.git"
      ],
      "execution_count": null,
      "outputs": [
        {
          "output_type": "stream",
          "text": [
            "Cloning into 'popsom'...\n",
            "remote: Enumerating objects: 6, done.\u001b[K\n",
            "remote: Counting objects: 100% (6/6), done.\u001b[K\n",
            "remote: Compressing objects: 100% (6/6), done.\u001b[K\n",
            "remote: Total 310 (delta 1), reused 0 (delta 0), pack-reused 304\u001b[K\n",
            "Receiving objects: 100% (310/310), 1.30 MiB | 9.44 MiB/s, done.\n",
            "Resolving deltas: 100% (149/149), done.\n"
          ],
          "name": "stdout"
        }
      ]
    },
    {
      "cell_type": "code",
      "metadata": {
        "id": "Z8jmqC5RH4c6"
      },
      "source": [
        "import pandas as pd\n",
        "import numpy as np\n",
        "\n",
        "data = pd.read_csv('https://raw.githubusercontent.com/angelomarcelino/machine_learning/main/lista_3/q3_data.csv')\n",
        "atributos = data[['expectativa_de_vida', 'educacao', 'pib', 'estabilidade_politica']]\n",
        "paises = data['pais']"
      ],
      "execution_count": null,
      "outputs": []
    },
    {
      "cell_type": "code",
      "metadata": {
        "colab": {
          "base_uri": "https://localhost:8080/",
          "height": 198
        },
        "id": "orbEmzklLmVY",
        "outputId": "b10f74a8-bb75-430f-d3b0-c7143d1091bc"
      },
      "source": [
        "atributos.head()"
      ],
      "execution_count": null,
      "outputs": [
        {
          "output_type": "execute_result",
          "data": {
            "text/html": [
              "<div>\n",
              "<style scoped>\n",
              "    .dataframe tbody tr th:only-of-type {\n",
              "        vertical-align: middle;\n",
              "    }\n",
              "\n",
              "    .dataframe tbody tr th {\n",
              "        vertical-align: top;\n",
              "    }\n",
              "\n",
              "    .dataframe thead th {\n",
              "        text-align: right;\n",
              "    }\n",
              "</style>\n",
              "<table border=\"1\" class=\"dataframe\">\n",
              "  <thead>\n",
              "    <tr style=\"text-align: right;\">\n",
              "      <th></th>\n",
              "      <th>expectativa_de_vida</th>\n",
              "      <th>educacao</th>\n",
              "      <th>pib</th>\n",
              "      <th>estabilidade_politica</th>\n",
              "    </tr>\n",
              "  </thead>\n",
              "  <tbody>\n",
              "    <tr>\n",
              "      <th>0</th>\n",
              "      <td>0.88</td>\n",
              "      <td>0.99</td>\n",
              "      <td>0.91</td>\n",
              "      <td>1.10</td>\n",
              "    </tr>\n",
              "    <tr>\n",
              "      <th>1</th>\n",
              "      <td>0.90</td>\n",
              "      <td>0.99</td>\n",
              "      <td>0.93</td>\n",
              "      <td>1.26</td>\n",
              "    </tr>\n",
              "    <tr>\n",
              "      <th>2</th>\n",
              "      <td>0.90</td>\n",
              "      <td>0.98</td>\n",
              "      <td>0.94</td>\n",
              "      <td>1.24</td>\n",
              "    </tr>\n",
              "    <tr>\n",
              "      <th>3</th>\n",
              "      <td>0.87</td>\n",
              "      <td>0.98</td>\n",
              "      <td>0.97</td>\n",
              "      <td>1.18</td>\n",
              "    </tr>\n",
              "    <tr>\n",
              "      <th>4</th>\n",
              "      <td>0.93</td>\n",
              "      <td>0.93</td>\n",
              "      <td>0.93</td>\n",
              "      <td>1.20</td>\n",
              "    </tr>\n",
              "  </tbody>\n",
              "</table>\n",
              "</div>"
            ],
            "text/plain": [
              "   expectativa_de_vida  educacao   pib  estabilidade_politica\n",
              "0                 0.88      0.99  0.91                   1.10\n",
              "1                 0.90      0.99  0.93                   1.26\n",
              "2                 0.90      0.98  0.94                   1.24\n",
              "3                 0.87      0.98  0.97                   1.18\n",
              "4                 0.93      0.93  0.93                   1.20"
            ]
          },
          "metadata": {
            "tags": []
          },
          "execution_count": 3
        }
      ]
    },
    {
      "cell_type": "code",
      "metadata": {
        "id": "M7x71e2XKlOO",
        "colab": {
          "base_uri": "https://localhost:8080/"
        },
        "outputId": "fc5e70ee-d9bd-4971-ca8c-2a67bf90bb2e"
      },
      "source": [
        "paises = [i for i in paises]\n",
        "paises[:5]"
      ],
      "execution_count": null,
      "outputs": [
        {
          "output_type": "execute_result",
          "data": {
            "text/plain": [
              "['Reino Unido', 'Austrália', 'Canadá', 'Estados Unidos', 'Japão']"
            ]
          },
          "metadata": {
            "tags": []
          },
          "execution_count": 4
        }
      ]
    },
    {
      "cell_type": "code",
      "metadata": {
        "id": "l7VRRR2LVvtr"
      },
      "source": [
        "import popsom as PopSom \n",
        "from sklearn import datasets"
      ],
      "execution_count": null,
      "outputs": []
    },
    {
      "cell_type": "code",
      "metadata": {
        "colab": {
          "base_uri": "https://localhost:8080/",
          "height": 171
        },
        "id": "byP7-jFgVvof",
        "outputId": "c33679a8-f775-48b4-840e-b31f96c6e017"
      },
      "source": [
        "som = PopSom.map(xdim=10,ydim=5)"
      ],
      "execution_count": null,
      "outputs": [
        {
          "output_type": "error",
          "ename": "AttributeError",
          "evalue": "ignored",
          "traceback": [
            "\u001b[0;31m---------------------------------------------------------------------------\u001b[0m",
            "\u001b[0;31mAttributeError\u001b[0m                            Traceback (most recent call last)",
            "\u001b[0;32m<ipython-input-17-742e527b5729>\u001b[0m in \u001b[0;36m<module>\u001b[0;34m()\u001b[0m\n\u001b[0;32m----> 1\u001b[0;31m \u001b[0msom\u001b[0m \u001b[0;34m=\u001b[0m \u001b[0mPopSom\u001b[0m\u001b[0;34m.\u001b[0m\u001b[0mmap\u001b[0m\u001b[0;34m(\u001b[0m\u001b[0mxdim\u001b[0m\u001b[0;34m=\u001b[0m\u001b[0;36m10\u001b[0m\u001b[0;34m,\u001b[0m\u001b[0mydim\u001b[0m\u001b[0;34m=\u001b[0m\u001b[0;36m5\u001b[0m\u001b[0;34m)\u001b[0m\u001b[0;34m\u001b[0m\u001b[0;34m\u001b[0m\u001b[0m\n\u001b[0m",
            "\u001b[0;31mAttributeError\u001b[0m: module 'popsom' has no attribute 'map'"
          ]
        }
      ]
    },
    {
      "cell_type": "code",
      "metadata": {
        "colab": {
          "base_uri": "https://localhost:8080/"
        },
        "id": "MWl0KGtMILZy",
        "outputId": "d499aaa5-07ef-49ed-d782-d85b006e95a3"
      },
      "source": [
        "from minisom import MiniSom\n",
        "\n",
        "som = MiniSom(\n",
        "    10, 10, 4,\n",
        "    sigma=1.5, learning_rate=.7,\n",
        "    activation_distance='euclidean', \n",
        "    topology='hexagonal', \n",
        "    neighborhood_function='gaussian'\n",
        ")\n",
        "\n",
        "som.train(data_v, 100, verbose=True)"
      ],
      "execution_count": null,
      "outputs": [
        {
          "output_type": "stream",
          "text": [
            "\r [   0 / 100 ]   0% - ? it/s\r [   0 / 100 ]   0% - ? it/s\r [   1 / 100 ]   1% - 0:00:00 left \r [   2 / 100 ]   2% - 0:00:00 left \r [   3 / 100 ]   3% - 0:00:00 left \r [   4 / 100 ]   4% - 0:00:00 left \r [   5 / 100 ]   5% - 0:00:00 left \r [   6 / 100 ]   6% - 0:00:00 left \r [   7 / 100 ]   7% - 0:00:00 left \r [   8 / 100 ]   8% - 0:00:00 left \r [   9 / 100 ]   9% - 0:00:00 left \r [  10 / 100 ]  10% - 0:00:00 left \r [  11 / 100 ]  11% - 0:00:00 left \r [  12 / 100 ]  12% - 0:00:00 left \r [  13 / 100 ]  13% - 0:00:00 left \r [  14 / 100 ]  14% - 0:00:00 left \r [  15 / 100 ]  15% - 0:00:00 left \r [  16 / 100 ]  16% - 0:00:00 left \r [  17 / 100 ]  17% - 0:00:00 left \r [  18 / 100 ]  18% - 0:00:00 left \r [  19 / 100 ]  19% - 0:00:00 left \r [  20 / 100 ]  20% - 0:00:00 left \r [  21 / 100 ]  21% - 0:00:00 left \r [  22 / 100 ]  22% - 0:00:00 left \r [  23 / 100 ]  23% - 0:00:00 left \r [  24 / 100 ]  24% - 0:00:00 left \r [  25 / 100 ]  25% - 0:00:00 left \r [  26 / 100 ]  26% - 0:00:00 left \r [  27 / 100 ]  27% - 0:00:00 left \r [  28 / 100 ]  28% - 0:00:00 left \r [  29 / 100 ]  29% - 0:00:00 left \r [  30 / 100 ]  30% - 0:00:00 left \r [  31 / 100 ]  31% - 0:00:00 left \r [  32 / 100 ]  32% - 0:00:00 left \r [  33 / 100 ]  33% - 0:00:00 left \r [  34 / 100 ]  34% - 0:00:00 left \r [  35 / 100 ]  35% - 0:00:00 left \r [  36 / 100 ]  36% - 0:00:00 left \r [  37 / 100 ]  37% - 0:00:00 left \r [  38 / 100 ]  38% - 0:00:00 left \r [  39 / 100 ]  39% - 0:00:00 left \r [  40 / 100 ]  40% - 0:00:00 left \r [  41 / 100 ]  41% - 0:00:00 left \r [  42 / 100 ]  42% - 0:00:00 left \r [  43 / 100 ]  43% - 0:00:00 left \r [  44 / 100 ]  44% - 0:00:00 left \r [  45 / 100 ]  45% - 0:00:00 left \r [  46 / 100 ]  46% - 0:00:00 left \r [  47 / 100 ]  47% - 0:00:00 left \r [  48 / 100 ]  48% - 0:00:00 left \r [  49 / 100 ]  49% - 0:00:00 left \r [  50 / 100 ]  50% - 0:00:00 left \r [  51 / 100 ]  51% - 0:00:00 left \r [  52 / 100 ]  52% - 0:00:00 left \r [  53 / 100 ]  53% - 0:00:00 left \r [  54 / 100 ]  54% - 0:00:00 left \r [  55 / 100 ]  55% - 0:00:00 left \r [  56 / 100 ]  56% - 0:00:00 left \r [  57 / 100 ]  57% - 0:00:00 left \r [  58 / 100 ]  58% - 0:00:00 left \r [  59 / 100 ]  59% - 0:00:00 left \r [  60 / 100 ]  60% - 0:00:00 left \r [  61 / 100 ]  61% - 0:00:00 left \r [  62 / 100 ]  62% - 0:00:00 left \r [  63 / 100 ]  63% - 0:00:00 left \r [  64 / 100 ]  64% - 0:00:00 left \r [  65 / 100 ]  65% - 0:00:00 left \r [  66 / 100 ]  66% - 0:00:00 left \r [  67 / 100 ]  67% - 0:00:00 left \r [  68 / 100 ]  68% - 0:00:00 left \r [  69 / 100 ]  69% - 0:00:00 left \r [  70 / 100 ]  70% - 0:00:00 left \r [  71 / 100 ]  71% - 0:00:00 left \r [  72 / 100 ]  72% - 0:00:00 left \r [  73 / 100 ]  73% - 0:00:00 left \r [  74 / 100 ]  74% - 0:00:00 left \r [  75 / 100 ]  75% - 0:00:00 left \r [  76 / 100 ]  76% - 0:00:00 left \r [  77 / 100 ]  77% - 0:00:00 left \r [  78 / 100 ]  78% - 0:00:00 left \r [  79 / 100 ]  79% - 0:00:00 left \r [  80 / 100 ]  80% - 0:00:00 left \r [  81 / 100 ]  81% - 0:00:00 left \r [  82 / 100 ]  82% - 0:00:00 left \r [  83 / 100 ]  83% - 0:00:00 left \r [  84 / 100 ]  84% - 0:00:00 left \r [  85 / 100 ]  85% - 0:00:00 left \r [  86 / 100 ]  86% - 0:00:00 left \r [  87 / 100 ]  87% - 0:00:00 left \r [  88 / 100 ]  88% - 0:00:00 left \r [  89 / 100 ]  89% - 0:00:00 left \r [  90 / 100 ]  90% - 0:00:00 left \r [  91 / 100 ]  91% - 0:00:00 left \r [  92 / 100 ]  92% - 0:00:00 left \r [  93 / 100 ]  93% - 0:00:00 left \r [  94 / 100 ]  94% - 0:00:00 left \r [  95 / 100 ]  95% - 0:00:00 left \r [  96 / 100 ]  96% - 0:00:00 left \r [  97 / 100 ]  97% - 0:00:00 left \r [  98 / 100 ]  98% - 0:00:00 left \r [  99 / 100 ]  99% - 0:00:00 left \r [ 100 / 100 ] 100% - 0:00:00 left \n",
            " quantization error: 0.0773496294054647\n"
          ],
          "name": "stdout"
        }
      ]
    },
    {
      "cell_type": "code",
      "metadata": {
        "id": "w7NamZ2AIr2a"
      },
      "source": [
        "xx, yy = som.get_euclidean_coordinates()\n",
        "umatrix = som.distance_map()\n",
        "weights = som.get_weights()"
      ],
      "execution_count": null,
      "outputs": []
    },
    {
      "cell_type": "code",
      "metadata": {
        "id": "_R17L4KXJE8e"
      },
      "source": [
        "from mpl_toolkits.axes_grid1 import make_axes_locatable\n",
        "from matplotlib.patches import RegularPolygon\n",
        "from matplotlib import pyplot as plt\n",
        "from matplotlib import cm, colorbar\n",
        "from matplotlib.lines import Line2D\n",
        "\n",
        "f = plt.figure(figsize=(22, 15))\n",
        "ax = f.add_subplot(111)\n",
        "\n",
        "ax.set_aspect('equal')\n",
        "\n",
        "# iteratively add hexagons\n",
        "for i in range(weights.shape[0]):\n",
        "    for j in range(weights.shape[1]):\n",
        "        wy = yy[(i, j)] * 2 / np.sqrt(3) * 3 / 4\n",
        "        hex = RegularPolygon(\n",
        "            (xx[(i, j)], wy), \n",
        "            numVertices=6, \n",
        "            radius=.95 / np.sqrt(3),\n",
        "            facecolor=cm.Blues(umatrix[i, j]), \n",
        "            alpha=.4, \n",
        "            edgecolor='gray'\n",
        "        )\n",
        "        ax.add_patch(hex)\n",
        "\n",
        "markers = ['o', '+', 'x', '^']\n",
        "colors = ['C0', 'C1', 'C2', 'C3']\n",
        "for cnt, x in enumerate(data):\n",
        "    # getting the winner\n",
        "    w = som.winner(x)\n",
        "    # place a marker on the winning position for the sample xx\n",
        "    wx, wy = som.convert_map_to_euclidean(w) \n",
        "    wy = wy * 2 / np.sqrt(3) * 3 / 4\n",
        "    plt.plot(\n",
        "        wx, wy, \n",
        "        markers[y[cnt]-1], \n",
        "        markerfacecolor='None',\n",
        "        markeredgecolor=colors[y[cnt]-1], \n",
        "        markersize=12, \n",
        "        markeredgewidth=2\n",
        "    )\n",
        "\n",
        "xrange = np.arange(weights.shape[0])\n",
        "yrange = np.arange(weights.shape[1])\n",
        "plt.xticks(xrange-.5, xrange)\n",
        "plt.yticks(yrange * 2 / np.sqrt(3) * 3 / 4, yrange)\n",
        "\n",
        "divider = make_axes_locatable(plt.gca())\n",
        "ax_cb = divider.new_horizontal(size=\"5%\", pad=0.05)    \n",
        "cb1 = colorbar.ColorbarBase(ax_cb, cmap=cm.Blues, orientation='vertical', alpha=.4)\n",
        "cb1.ax.get_yaxis().labelpad = 18\n",
        "cb1.ax.set_ylabel('Distância dos neurônios na vizinhança', rotation=270, fontsize=18)\n",
        "plt.gcf().add_axes(ax_cb)\n",
        "\n",
        "legend_elements = [\n",
        "    Line2D([0], [0], marker='o', color='C0', label='C_1', markerfacecolor='w', markersize=14, linestyle='None', markeredgewidth=2),\n",
        "    Line2D([0], [0], marker='+', color='C1', label='C_2', markerfacecolor='w', markersize=14, linestyle='None', markeredgewidth=2),\n",
        "    Line2D([0], [0], marker='x', color='C2', label='C_3',markerfacecolor='w', markersize=14, linestyle='None', markeredgewidth=2),\n",
        "    Line2D([0], [0], marker='^', color='C3', label='C_4',markerfacecolor='w', markersize=14, linestyle='None', markeredgewidth=2)\n",
        "]\n",
        "\n",
        "ax.set_title('Topologia hexagonal da rede SOM', fontsize=24)\n",
        "ax.legend(handles=legend_elements, loc='upper right', ncol=4, fontsize=18)\n",
        "\n",
        "#plt.tight_layout()\n",
        "plt.show()"
      ],
      "execution_count": null,
      "outputs": []
    },
    {
      "cell_type": "code",
      "metadata": {
        "id": "r_oNVEBHSM5T"
      },
      "source": [
        ""
      ],
      "execution_count": null,
      "outputs": []
    }
  ]
}