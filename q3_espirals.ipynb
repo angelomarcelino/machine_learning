{
  "nbformat": 4,
  "nbformat_minor": 0,
  "metadata": {
    "colab": {
      "name": "q3_espirals.ipynb",
      "provenance": [],
      "authorship_tag": "ABX9TyNbv+SXIyYjyLG4ZMHMW3H3",
      "include_colab_link": true
    },
    "kernelspec": {
      "name": "python3",
      "display_name": "Python 3"
    }
  },
  "cells": [
    {
      "cell_type": "markdown",
      "metadata": {
        "id": "view-in-github",
        "colab_type": "text"
      },
      "source": [
        "<a href=\"https://colab.research.google.com/github/angelomarcelino/machine_learning/blob/main/q3_espirals.ipynb\" target=\"_parent\"><img src=\"https://colab.research.google.com/assets/colab-badge.svg\" alt=\"Open In Colab\"/></a>"
      ]
    },
    {
      "cell_type": "markdown",
      "metadata": {
        "id": "C2sbN1hlFbRy"
      },
      "source": [
        "#### Importações"
      ]
    },
    {
      "cell_type": "code",
      "metadata": {
        "id": "KleL45h4FNm9"
      },
      "source": [
        "import numpy as np\n",
        "import matplotlib.pyplot as plt"
      ],
      "execution_count": 1,
      "outputs": []
    },
    {
      "cell_type": "markdown",
      "metadata": {
        "id": "iuixMP8vFm8K"
      },
      "source": [
        "# Questão 3\n",
        "Considere o problema de classificação de padrões constituído por duas espirais intercaladas. A espiral 1 sendo a classe 1 e a espiral 2 sendo a classe 2. Gere os exemplos de treinamento usando as seguintes equações:\n",
        "\n",
        "para espiral 1, $x = \\dfrac{\\theta}{4}\\text{cos}\\theta$ &nbsp;&nbsp;&nbsp;&nbsp; $y = \\dfrac{\\theta}{4}\\text{sen}\\theta$ &nbsp;&nbsp;&nbsp;&nbsp; $\\theta \\geq 0$\n",
        "\n",
        "\n",
        "para espiral 2, $x = (\\dfrac{\\theta}{4} + 0.8)\\text{cos}\\theta$ &nbsp;&nbsp;&nbsp;&nbsp; $y = (\\dfrac{\\theta}{4} + 0.8)\\text{sen}\\theta$ &nbsp;&nbsp;&nbsp;&nbsp; $\\theta \\geq 0$\n",
        "\n",
        "\n",
        "fazendo $\\theta$ assumir valores igualmente espaçados entre 0 e 20 radianos. Compare o desempenho das soluções com base na matriz de confusão. Pesquise e utilize uma rede convolutiva já treinada. "
      ]
    },
    {
      "cell_type": "code",
      "metadata": {
        "id": "ACNQFnCHG1Ft",
        "outputId": "0b9c2815-4396-4890-d8c5-7dd870a139bd",
        "colab": {
          "base_uri": "https://localhost:8080/",
          "height": 265
        }
      },
      "source": [
        "# Definindo as espirais\n",
        "theta = np.linspace(0, 20, 100)\n",
        "x1, y1 = ((theta/4)*np.cos(theta), (theta/4)*np.sin(theta))\n",
        "x2, y2 = (((theta/4)+.8)*np.cos(theta), ((theta/4)+.8)*np.sin(theta))\n",
        "\n",
        "plt.scatter(x1, y1, label='classe 1')\n",
        "plt.scatter(x2, y2, label='classe 2')\n",
        "plt.legend()\n",
        "plt.show()"
      ],
      "execution_count": 28,
      "outputs": [
        {
          "output_type": "display_data",
          "data": {
            "image/png": "[encoded data removed]",
            "text/plain": [
              "<Figure size 432x288 with 1 Axes>"
            ]
          },
          "metadata": {
            "tags": [],
            "needs_background": "light"
          }
        }
      ]
    },
    {
      "cell_type": "markdown",
      "metadata": {
        "id": "yVHBq7TgGAtN"
      },
      "source": [
        "Solucione este problema considerando: \n",
        "\n",
        "#### a) Um rede perceptron de múltiplas camadas"
      ]
    },
    {
      "cell_type": "code",
      "metadata": {
        "id": "hlWifPCWGGCQ"
      },
      "source": [
        ""
      ],
      "execution_count": null,
      "outputs": []
    },
    {
      "cell_type": "markdown",
      "metadata": {
        "id": "OauWg-FUGGQz"
      },
      "source": [
        "#### b) Uma máquina de vetor de suporte (SVM)"
      ]
    },
    {
      "cell_type": "code",
      "metadata": {
        "id": "TdWO3pXpGJUq"
      },
      "source": [
        ""
      ],
      "execution_count": null,
      "outputs": []
    },
    {
      "cell_type": "markdown",
      "metadata": {
        "id": "csNMm5nVGJei"
      },
      "source": [
        "#### c) Um comitê de máquinas"
      ]
    },
    {
      "cell_type": "code",
      "metadata": {
        "id": "7tKL4LVJKFNR"
      },
      "source": [
        ""
      ],
      "execution_count": null,
      "outputs": []
    }
  ]
}