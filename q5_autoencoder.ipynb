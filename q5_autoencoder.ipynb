{
  "nbformat": 4,
  "nbformat_minor": 0,
  "metadata": {
    "colab": {
      "name": "q5_autoencoder.ipynb",
      "provenance": [],
      "authorship_tag": "ABX9TyOrsMDdC9gnRpDWG/fzU9Jn",
      "include_colab_link": true
    },
    "kernelspec": {
      "name": "python3",
      "display_name": "Python 3"
    }
  },
  "cells": [
    {
      "cell_type": "markdown",
      "metadata": {
        "id": "view-in-github",
        "colab_type": "text"
      },
      "source": [
        "<a href=\"https://colab.research.google.com/github/angelomarcelino/machine_learning/blob/main/q5_autoencoder.ipynb\" target=\"_parent\"><img src=\"https://colab.research.google.com/assets/colab-badge.svg\" alt=\"Open In Colab\"/></a>"
      ]
    },
    {
      "cell_type": "markdown",
      "metadata": {
        "id": "DCONkWzIL8nF"
      },
      "source": [
        "#### Importações\n"
      ]
    },
    {
      "cell_type": "code",
      "metadata": {
        "id": "giCFHFEsL6E_"
      },
      "source": [
        ""
      ],
      "execution_count": null,
      "outputs": []
    },
    {
      "cell_type": "markdown",
      "metadata": {
        "id": "AqCfp1RGL90y"
      },
      "source": [
        "# Questão 5\n",
        "\n",
        "Utilize uma rede autoencoder, aplicada ao problema da redução de dimensionalidade (compressão/descompressão). Para isto considere a matriz de dados abaixo:\n",
        "\n",
        "$$\\mathbf{F} = \\begin{bmatrix} 0.9192 & 0.4677 & 0.1714 & 0.0703 & 0.1052 \\\\ \n",
        "0.7719 & 0.9291 & 0.3725 & 0.1238 & 0.0416 \\\\\n",
        "0.0654 & 0.4459 & 0.9397 & 0.3263 & 0.3686 \\\\\n",
        "0.4428 & 0.1433 & 0.1649 & 0.9601 & 0.4239 \\\\\n",
        "0.07772 & 0.2053 & 0.2550 & 0.5177 & 0.9272 \\end{bmatrix}$$\n",
        "    \n",
        "Obtenha uma compressão 5:3, isto é, comprima a matriz 5x5 para uma matriz 3x3. Obtenha a matriz descomprimida isto é $\\hat{\\mathbf{F}}$ e calcule a relação sinal ruído em dB, definida como:\n",
        "\n",
        "$$\\dfrac{S}{N} = 10\\text{log}_{10} \\begin{bmatrix}\\dfrac{\\sum\\limits^{N}_{m=1}\\sum\\limits^{N}_{n=1} f^2(m,n)}{\\sum\\limits^{N}_{m=1}\\sum\\limits^{N}_{n=1} \\mid f(m,n) - \\hat{f}^2(m,n)\\mid}\\end{bmatrix}$$"
      ]
    },
    {
      "cell_type": "code",
      "metadata": {
        "id": "zTrQnrXKM3yX"
      },
      "source": [
        "F = [[0.9192, 0.4677, 0.1714, 0.0703, 0.1052],\n",
        "     [0.7719, 0.9291, 0.3725, 0.1238, 0.0416],\n",
        "     [0.0654, 0.4459, 0.9397, 0.3263, 0.3686],\n",
        "     [0.4428, 0.1433, 0.1649, 0.9601, 0.4239],\n",
        "     [0.07772, 0.2053, 0.2550, 0.5177, 0.9272]]"
      ],
      "execution_count": null,
      "outputs": []
    }
  ]
}