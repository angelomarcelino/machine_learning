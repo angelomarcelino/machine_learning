{
  "nbformat": 4,
  "nbformat_minor": 0,
  "metadata": {
    "colab": {
      "name": "q2_mlp.ipynb",
      "provenance": [],
      "authorship_tag": "ABX9TyOo71SkW7AOLf8VggGIxp2L",
      "include_colab_link": true
    },
    "kernelspec": {
      "name": "python3",
      "display_name": "Python 3"
    }
  },
  "cells": [
    {
      "cell_type": "markdown",
      "metadata": {
        "id": "view-in-github",
        "colab_type": "text"
      },
      "source": [
        "<a href=\"https://colab.research.google.com/github/angelomarcelino/machine_learning/blob/main/q2_mlp.ipynb\" target=\"_parent\"><img src=\"https://colab.research.google.com/assets/colab-badge.svg\" alt=\"Open In Colab\"/></a>"
      ]
    },
    {
      "cell_type": "markdown",
      "metadata": {
        "id": "TITz44bObO3s"
      },
      "source": [
        "#### Importações"
      ]
    },
    {
      "cell_type": "code",
      "metadata": {
        "id": "itJFth6ubOLh"
      },
      "source": [
        "# TESTE_UP_PC"
      ],
      "execution_count": null,
      "outputs": []
    },
    {
      "source": [
        "# Questão 2 \n",
        "Utilize redes neurais perceptron de múltiplas camadas para aproximar as funções abaixo. Para o caso dos itens b e c apresente um gráfico com a curva da função analítica e a curva da função aproximada pela rede neural. Apresente também a curva do erro médio de treinamento com relação ao número de épocas e a curva do erro médio com o conjunto de validação. Procure definir para cada função a arquitetura da rede neural perceptron, isto é, o número de entradas, o número de neurônios em cada camada e o número de neurônios camada de saída."
      ],
      "cell_type": "markdown",
      "metadata": {
        "id": "BqkItMgOWUzP"
      }
    },
    {
      "source": [
        "#### a) $f(x_{1}, x_{2}, x_{3}) = x_{1} \\oplus x_{2} \\oplus x_{3}$"
      ],
      "cell_type": "markdown",
      "metadata": {}
    },
    {
      "cell_type": "code",
      "execution_count": null,
      "metadata": {},
      "outputs": [],
      "source": []
    },
    {
      "cell_type": "markdown",
      "metadata": {
        "id": "PKzt09rpWfVl"
      },
      "source": [
        "#### b) $f(\\mathbf{x}) = [\\dfrac{\\text{sen}(\\pi\\parallel\\mathbf{x}\\parallel)}{\\pi\\parallel\\mathbf{x}\\parallel}]$, $\\mathbf{x} = \\begin{bmatrix} x_{1} & x_{2}\\end{bmatrix}^T$, $\\mid x_{1} \\mid \\leq 10$ e $\\mid x_{2} \\mid \\leq 10$"
      ]
    },
    {
      "cell_type": "code",
      "metadata": {
        "id": "nI8pGDK5UiqP"
      },
      "source": [
        ""
      ],
      "execution_count": null,
      "outputs": []
    },
    {
      "cell_type": "markdown",
      "metadata": {
        "id": "e5OazGYfWmcQ"
      },
      "source": [
        "#### c) $f(\\mathbf{x}) = x_{1}^2 + x_{2}^2 + 2x_{1}x_{2}\\text{cos}(\\pi x_{1}x_{2}) + x_{1} + x_{2} - 1$, $\\mid x_{1} \\mid \\leq 1$, $\\mid x_{2} \\mid \\leq 1$"
      ]
    },
    {
      "cell_type": "code",
      "metadata": {
        "id": "vY_nQtWcWrI4"
      },
      "source": [
        ""
      ],
      "execution_count": null,
      "outputs": []
    }
  ]
}