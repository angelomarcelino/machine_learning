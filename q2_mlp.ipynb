{
  "nbformat": 4,
  "nbformat_minor": 0,
  "metadata": {
    "colab": {
      "name": "q2_mlp.ipynb",
      "provenance": [],
      "include_colab_link": true
    },
    "kernelspec": {
      "name": "python3",
      "display_name": "Python 3"
    }
  },
  "cells": [
    {
      "cell_type": "markdown",
      "metadata": {
        "id": "view-in-github",
        "colab_type": "text"
      },
      "source": [
        "<a href=\"https://colab.research.google.com/github/angelomarcelino/machine_learning/blob/main/q2_mlp.ipynb\" target=\"_parent\"><img src=\"https://colab.research.google.com/assets/colab-badge.svg\" alt=\"Open In Colab\"/></a>"
      ]
    },
    {
      "cell_type": "markdown",
      "metadata": {
        "id": "TITz44bObO3s"
      },
      "source": [
        "#### Importações"
      ]
    },
    {
      "cell_type": "code",
      "metadata": {
        "id": "itJFth6ubOLh"
      },
      "source": [
        "import numpy as np\n",
        "import matplotlib.pyplot as plt"
      ],
      "execution_count": 17,
      "outputs": []
    },
    {
      "cell_type": "markdown",
      "metadata": {
        "id": "BqkItMgOWUzP"
      },
      "source": [
        "# Questão 2 \n",
        "Utilize redes neurais perceptron de múltiplas camadas para aproximar as funções abaixo. Para o caso dos itens b e c apresente um gráfico com a curva da função analítica e a curva da função aproximada pela rede neural. Apresente também a curva do erro médio de treinamento com relação ao número de épocas e a curva do erro médio com o conjunto de validação. Procure definir para cada função a arquitetura da rede neural perceptron, isto é, o número de entradas, o número de neurônios em cada camada e o número de neurônios camada de saída."
      ]
    },
    {
      "cell_type": "markdown",
      "metadata": {
        "id": "XpssfIUU1q2I"
      },
      "source": [
        "#### a) $f(x_{1}, x_{2}, x_{3}) = x_{1} \\oplus x_{2} \\oplus x_{3}$"
      ]
    },
    {
      "cell_type": "code",
      "metadata": {
        "id": "gkt359yS6Bes",
        "outputId": "787a4d6d-3393-4ebe-b462-293ce75fa067",
        "colab": {
          "base_uri": "https://localhost:8080/"
        }
      },
      "source": [
        "# Definindo a função xor e separando em inputs e outputs\n",
        "def xor(x1, x2):\n",
        "    if x1 != x2:\n",
        "        return 1\n",
        "    else:\n",
        "        return 0\n",
        "\n",
        "inputs = [] \n",
        "outputs = []\n",
        "for x1 in [0, 1]: \n",
        "    for x2 in [0, 1]: \n",
        "        for x3 in [0, 1]:\n",
        "            inputs.append([x1,x2,x3])\n",
        "            outputs.append(xor(xor(x1, x2),x3))\n",
        "\n",
        "print(inputs, outputs)"
      ],
      "execution_count": 42,
      "outputs": [
        {
          "output_type": "stream",
          "text": [
            "[[0, 0, 0], [0, 0, 1], [0, 1, 0], [0, 1, 1], [1, 0, 0], [1, 0, 1], [1, 1, 0], [1, 1, 1]] [0, 1, 1, 0, 1, 0, 0, 1]\n"
          ],
          "name": "stdout"
        }
      ]
    },
    {
      "cell_type": "markdown",
      "metadata": {
        "id": "PKzt09rpWfVl"
      },
      "source": [
        "#### b) $f(\\mathbf{x}) = [\\dfrac{\\text{sen}(\\pi\\parallel\\mathbf{x}\\parallel)}{\\pi\\parallel\\mathbf{x}\\parallel}]$, $\\mathbf{x} = \\begin{bmatrix} x_{1} & x_{2}\\end{bmatrix}^T$, $\\mid x_{1} \\mid \\leq 10$ e $\\mid x_{2} \\mid \\leq 10$"
      ]
    },
    {
      "cell_type": "code",
      "metadata": {
        "id": "nI8pGDK5UiqP",
        "outputId": "face2f35-6db3-4e04-fe89-34cf03ce49e8",
        "colab": {
          "base_uri": "https://localhost:8080/",
          "height": 282
        }
      },
      "source": [
        "x_1_2= np.linspace(-10, 10, 1000)\n",
        "\n",
        "x_bold = [[i,i] for i in x_1_2]\n",
        "norm = [np.linalg.norm(i) for i in x_bold]\n",
        "f_x = [np.sin(np.pi * i)/(np.pi * i) for i in norm]\n",
        "\n",
        "plt.plot(x_1_2, f_x)"
      ],
      "execution_count": 41,
      "outputs": [
        {
          "output_type": "execute_result",
          "data": {
            "text/plain": [
              "[<matplotlib.lines.Line2D at 0x7fdff43862b0>]"
            ]
          },
          "metadata": {
            "tags": []
          },
          "execution_count": 41
        },
        {
          "output_type": "display_data",
          "data": {
            "image/png": "[encoded data removed]",
            "text/plain": [
              "<Figure size 432x288 with 1 Axes>"
            ]
          },
          "metadata": {
            "tags": [],
            "needs_background": "light"
          }
        }
      ]
    },
    {
      "cell_type": "markdown",
      "metadata": {
        "id": "e5OazGYfWmcQ"
      },
      "source": [
        "#### c) $f(\\mathbf{x}) = x_{1}^2 + x_{2}^2 + 2x_{1}x_{2}\\text{cos}(\\pi x_{1}x_{2}) + x_{1} + x_{2} - 1$, $\\mid x_{1} \\mid \\leq 1$, $\\mid x_{2} \\mid \\leq 1$"
      ]
    },
    {
      "cell_type": "code",
      "metadata": {
        "id": "VCE8yo0-ANgm",
        "outputId": "425de8df-d410-4437-9c4d-c7e07cd34d85",
        "colab": {
          "base_uri": "https://localhost:8080/",
          "height": 282
        }
      },
      "source": [
        "x_1_2 = np.linspace(-1, 1, 1000)\n",
        "\n",
        "x_bold = [(i,i) for i in x_1_2]\n",
        "f_x = [x1**2 + x2**2 + 2*x1*x2*np.cos(x1*x2*np.pi) + x1 + x2 - 1 for x1, x2 in x_bold]\n",
        "\n",
        "plt.plot(x_1_2, f_x)"
      ],
      "execution_count": 40,
      "outputs": [
        {
          "output_type": "execute_result",
          "data": {
            "text/plain": [
              "[<matplotlib.lines.Line2D at 0x7fdff43f9b70>]"
            ]
          },
          "metadata": {
            "tags": []
          },
          "execution_count": 40
        },
        {
          "output_type": "display_data",
          "data": {
            "image/png": "[encoded data removed]",
            "text/plain": [
              "<Figure size 432x288 with 1 Axes>"
            ]
          },
          "metadata": {
            "tags": [],
            "needs_background": "light"
          }
        }
      ]
    },
    {
      "cell_type": "code",
      "metadata": {
        "id": "RciTWhvBC3Xz"
      },
      "source": [
        ""
      ],
      "execution_count": null,
      "outputs": []
    }
  ]
}